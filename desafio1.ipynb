import pandas as pd

dados = pd.read_csv('/content/A102949189_28_143_208.csv', encoding='ISO-8859-1',
                    skiprows = 3, sep=';', skipfooter = 12,
                    thousands='.', decimal=',')

pd.options.display.float_format = '{:.2f}'.format

dados.mean()

import matplotlib.pyplot as plt
import matplotlib.ticker as ticker

ax = dados.plot(x="Unidade da Federação", y="2021/Mar", kind="bar", figsize=(10,7))

ax.yaxis.set_major_formatter(ticker.StrMethodFormatter("{x:,.2f}"))
ax.set_facecolor('white')
plt.title("SUS: Valores Gastos com Procedimentos Hospitalares por Estado em Mar/2021", fontsize=17, fontweight="bold")
plt.show()
